{
 "cells": [
  {
   "cell_type": "code",
   "execution_count": 1,
   "id": "f80d72b8",
   "metadata": {},
   "outputs": [],
   "source": [
    "\n",
    "import pandas as pd \n",
    "import numpy as np\n",
    "import matplotlib.pyplot as plt\n",
    "import seaborn as sns\n",
    "import matplotlib.ticker as ticker\n",
    "import plotly.express as px\n",
    "import plotly.graph_objects as go\n",
    "from plotly.subplots import make_subplots"
   ]
  },
  {
   "cell_type": "code",
   "execution_count": 7,
   "id": "4ac084ca",
   "metadata": {},
   "outputs": [],
   "source": [
    "df = pd.read_csv(\"./data/teams_updated.csv\",index_col=0)"
   ]
  },
  {
   "cell_type": "code",
   "execution_count": 11,
   "id": "0dbde3d4",
   "metadata": {},
   "outputs": [],
   "source": [
    "df_rankings = df[[\"Team\",\"Rank\",\"Year\"]]"
   ]
  },
  {
   "cell_type": "code",
   "execution_count": 12,
   "id": "2b577bdf",
   "metadata": {},
   "outputs": [
    {
     "data": {
      "text/html": [
       "<div>\n",
       "<style scoped>\n",
       "    .dataframe tbody tr th:only-of-type {\n",
       "        vertical-align: middle;\n",
       "    }\n",
       "\n",
       "    .dataframe tbody tr th {\n",
       "        vertical-align: top;\n",
       "    }\n",
       "\n",
       "    .dataframe thead th {\n",
       "        text-align: right;\n",
       "    }\n",
       "</style>\n",
       "<table border=\"1\" class=\"dataframe\">\n",
       "  <thead>\n",
       "    <tr style=\"text-align: right;\">\n",
       "      <th></th>\n",
       "      <th>Team</th>\n",
       "      <th>Rank</th>\n",
       "      <th>Year</th>\n",
       "    </tr>\n",
       "  </thead>\n",
       "  <tbody>\n",
       "    <tr>\n",
       "      <th>160</th>\n",
       "      <td>China</td>\n",
       "      <td>Quarter Final</td>\n",
       "      <td>1991</td>\n",
       "    </tr>\n",
       "    <tr>\n",
       "      <th>161</th>\n",
       "      <td>Italy</td>\n",
       "      <td>Quarter Final</td>\n",
       "      <td>1991</td>\n",
       "    </tr>\n",
       "    <tr>\n",
       "      <th>162</th>\n",
       "      <td>Denmark</td>\n",
       "      <td>Quarter Final</td>\n",
       "      <td>1991</td>\n",
       "    </tr>\n",
       "    <tr>\n",
       "      <th>163</th>\n",
       "      <td>Taiwan</td>\n",
       "      <td>Quarter Final</td>\n",
       "      <td>1991</td>\n",
       "    </tr>\n",
       "    <tr>\n",
       "      <th>164</th>\n",
       "      <td>Brazil</td>\n",
       "      <td>Group Stage</td>\n",
       "      <td>1991</td>\n",
       "    </tr>\n",
       "  </tbody>\n",
       "</table>\n",
       "</div>"
      ],
      "text/plain": [
       "        Team           Rank  Year\n",
       "160    China  Quarter Final  1991\n",
       "161    Italy  Quarter Final  1991\n",
       "162  Denmark  Quarter Final  1991\n",
       "163   Taiwan  Quarter Final  1991\n",
       "164   Brazil    Group Stage  1991"
      ]
     },
     "execution_count": 12,
     "metadata": {},
     "output_type": "execute_result"
    }
   ],
   "source": [
    "df_rankings.head()\n"
   ]
  },
  {
   "cell_type": "code",
   "execution_count": 18,
   "id": "e1c07f22",
   "metadata": {},
   "outputs": [
    {
     "data": {
      "text/plain": [
       "160    1991\n",
       "161    1991\n",
       "162    1991\n",
       "163    1991\n",
       "164    1991\n",
       "       ... \n",
       "28     2023\n",
       "27     2023\n",
       "26     2023\n",
       "25     2023\n",
       "24     2023\n",
       "Name: Year, Length: 168, dtype: object"
      ]
     },
     "execution_count": 18,
     "metadata": {},
     "output_type": "execute_result"
    }
   ],
   "source": [
    "df_rankings[\"Year\"].astype(str)"
   ]
  },
  {
   "cell_type": "code",
   "execution_count": 22,
   "id": "5bc2e2c9",
   "metadata": {},
   "outputs": [
    {
     "data": {
      "text/plain": [
       "Team    object\n",
       "Rank    object\n",
       "Year     int64\n",
       "dtype: object"
      ]
     },
     "execution_count": 22,
     "metadata": {},
     "output_type": "execute_result"
    }
   ],
   "source": [
    "df_rankings.dtypes"
   ]
  }
 ],
 "metadata": {
  "kernelspec": {
   "display_name": "base",
   "language": "python",
   "name": "python3"
  },
  "language_info": {
   "codemirror_mode": {
    "name": "ipython",
    "version": 3
   },
   "file_extension": ".py",
   "mimetype": "text/x-python",
   "name": "python",
   "nbconvert_exporter": "python",
   "pygments_lexer": "ipython3",
   "version": "3.12.4"
  }
 },
 "nbformat": 4,
 "nbformat_minor": 5
}
